{
 "cells": [
  {
   "cell_type": "code",
   "execution_count": 1,
   "id": "554a282a",
   "metadata": {},
   "outputs": [],
   "source": [
    "import warnings\n",
    "import numpy as np\n",
    "import pandas as pd\n",
    "from KNN import KNN\n",
    "from sklearn.neighbors import KNeighborsClassifier\n",
    "from sklearn.model_selection import train_test_split\n",
    "from sklearn.metrics import confusion_matrix, accuracy_score"
   ]
  },
  {
   "cell_type": "code",
   "execution_count": 2,
   "id": "a2e97dcd",
   "metadata": {},
   "outputs": [],
   "source": [
    "warnings.filterwarnings(\"ignore\")"
   ]
  },
  {
   "cell_type": "code",
   "execution_count": 3,
   "id": "0ea307dc",
   "metadata": {},
   "outputs": [],
   "source": [
    "df = pd.read_csv('Iris.csv')"
   ]
  },
  {
   "cell_type": "code",
   "execution_count": 4,
   "id": "e2d95787",
   "metadata": {},
   "outputs": [],
   "source": [
    "X = df.drop(columns=[\"Id\", \"Species\"])"
   ]
  },
  {
   "cell_type": "code",
   "execution_count": 5,
   "id": "9fd2b809",
   "metadata": {},
   "outputs": [],
   "source": [
    "y = df[['Species']].astype(\"category\")"
   ]
  },
  {
   "cell_type": "code",
   "execution_count": 6,
   "id": "5d6b3322",
   "metadata": {},
   "outputs": [],
   "source": [
    "X_train, X_test, y_train, y_test = train_test_split(\n",
    "    X, y, test_size=0.20, random_state=1, stratify=y\n",
    ")"
   ]
  },
  {
   "cell_type": "code",
   "execution_count": 7,
   "id": "4049ffe2",
   "metadata": {},
   "outputs": [],
   "source": [
    "p: int = 2\n",
    "k: int = 11"
   ]
  },
  {
   "cell_type": "code",
   "execution_count": 8,
   "id": "1a983d31",
   "metadata": {},
   "outputs": [],
   "source": [
    "knn = KNN(n_neighbors=k, minkowski_p=p)"
   ]
  },
  {
   "cell_type": "code",
   "execution_count": 9,
   "id": "937b9a9c",
   "metadata": {},
   "outputs": [],
   "source": [
    "knn.fit(X=X_train, y=y_train)"
   ]
  },
  {
   "cell_type": "code",
   "execution_count": 10,
   "id": "cdc5d72c",
   "metadata": {},
   "outputs": [],
   "source": [
    "y_pred = knn.predict(X=X_test)"
   ]
  },
  {
   "cell_type": "code",
   "execution_count": 11,
   "id": "a651a83e",
   "metadata": {},
   "outputs": [],
   "source": [
    "knn_raw_confusion_matrix: int = confusion_matrix(y_test, y_pred)\n",
    "knn_raw_accuracy: int = accuracy_score(y_test, y_pred).mean() * 100"
   ]
  },
  {
   "cell_type": "code",
   "execution_count": 12,
   "id": "d0dfea84",
   "metadata": {},
   "outputs": [],
   "source": [
    "knn = KNeighborsClassifier(n_neighbors=k, p=p)"
   ]
  },
  {
   "cell_type": "code",
   "execution_count": 13,
   "id": "4aa5be74",
   "metadata": {},
   "outputs": [],
   "source": [
    "knn.fit(X_train, y_train);"
   ]
  },
  {
   "cell_type": "code",
   "execution_count": 14,
   "id": "c3b43386",
   "metadata": {},
   "outputs": [],
   "source": [
    "y_pred = knn.predict(X_test)"
   ]
  },
  {
   "cell_type": "code",
   "execution_count": 15,
   "id": "dcfc2356",
   "metadata": {},
   "outputs": [],
   "source": [
    "knn_confusion_matrix: int = confusion_matrix(y_test, y_pred)\n",
    "knn_accuracy: int = accuracy_score(y_test, y_pred).mean() * 100"
   ]
  },
  {
   "cell_type": "code",
   "execution_count": 16,
   "id": "7f0ef529",
   "metadata": {},
   "outputs": [
    {
     "name": "stdout",
     "output_type": "stream",
     "text": [
      "[[10  0  0]\n",
      " [ 0 10  0]\n",
      " [ 0  1  9]]\n",
      "96.66666666666667\n"
     ]
    }
   ],
   "source": [
    "print(knn_raw_confusion_matrix)\n",
    "print(knn_raw_accuracy)"
   ]
  },
  {
   "cell_type": "code",
   "execution_count": 17,
   "id": "05f75378",
   "metadata": {},
   "outputs": [
    {
     "name": "stdout",
     "output_type": "stream",
     "text": [
      "[[10  0  0]\n",
      " [ 0 10  0]\n",
      " [ 0  1  9]]\n",
      "96.66666666666667\n"
     ]
    }
   ],
   "source": [
    "print(knn_confusion_matrix)\n",
    "print(knn_accuracy)"
   ]
  }
 ],
 "metadata": {
  "kernelspec": {
   "display_name": "Python 3",
   "language": "python",
   "name": "python3"
  },
  "language_info": {
   "codemirror_mode": {
    "name": "ipython",
    "version": 3
   },
   "file_extension": ".py",
   "mimetype": "text/x-python",
   "name": "python",
   "nbconvert_exporter": "python",
   "pygments_lexer": "ipython3",
   "version": "3.8.8"
  }
 },
 "nbformat": 4,
 "nbformat_minor": 5
}
